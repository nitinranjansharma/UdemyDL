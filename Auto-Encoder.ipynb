{
 "cells": [
  {
   "cell_type": "code",
   "execution_count": 1,
   "metadata": {},
   "outputs": [],
   "source": [
    "import torch"
   ]
  },
  {
   "cell_type": "code",
   "execution_count": 2,
   "metadata": {},
   "outputs": [],
   "source": [
    "import pandas as pd"
   ]
  },
  {
   "cell_type": "code",
   "execution_count": 3,
   "metadata": {},
   "outputs": [],
   "source": [
    "# Importing the libraries\n",
    "import numpy as np\n",
    "import pandas as pd\n",
    "import torch\n",
    "import torch.nn as nn\n",
    "import torch.nn.parallel\n",
    "import torch.optim as optim\n",
    "import torch.utils.data\n",
    "from torch.autograd import Variable"
   ]
  },
  {
   "cell_type": "code",
   "execution_count": 6,
   "metadata": {},
   "outputs": [],
   "source": [
    "# Importing the dataset\n",
    "movies = pd.read_csv('C:\\\\Nitin\\\\DeepLearning\\\\AutoEncoders\\\\AutoEncoders\\\\ml-1m\\\\ml-1m\\\\movies.dat', sep = '::', header = None, engine = 'python', encoding = 'latin-1')\n",
    "users = pd.read_csv('C:\\\\Nitin\\\\DeepLearning\\\\AutoEncoders\\\\AutoEncoders\\\\ml-1m\\\\ml-1m\\\\users.dat', sep = '::', header = None, engine = 'python', encoding = 'latin-1')\n",
    "ratings = pd.read_csv('C:\\\\Nitin\\\\DeepLearning\\\\AutoEncoders\\\\AutoEncoders\\\\ml-1m\\\\ml-1m\\\\ratings.dat', sep = '::', header = None, engine = 'python', encoding = 'latin-1')"
   ]
  },
  {
   "cell_type": "code",
   "execution_count": 8,
   "metadata": {},
   "outputs": [],
   "source": [
    "# Preparing the training set and the test set\n",
    "training_set = pd.read_csv('C:\\\\Nitin\\\\DeepLearning\\\\AutoEncoders\\\\AutoEncoders\\\\ml-100k\\\\ml-100k\\\\u1.base', delimiter = '\\t')\n",
    "training_set = np.array(training_set, dtype = 'int')\n",
    "test_set = pd.read_csv('C:\\\\Nitin\\\\DeepLearning\\\\AutoEncoders\\\\AutoEncoders\\\\ml-100k\\\\ml-100k\\\\u1.test', delimiter = '\\t')\n",
    "test_set = np.array(test_set, dtype = 'int')"
   ]
  },
  {
   "cell_type": "code",
   "execution_count": 9,
   "metadata": {},
   "outputs": [],
   "source": [
    "# Getting the number of users and movies\n",
    "nb_users = int(max(max(training_set[:,0]), max(test_set[:,0])))\n",
    "nb_movies = int(max(max(training_set[:,1]), max(test_set[:,1])))"
   ]
  },
  {
   "cell_type": "code",
   "execution_count": 10,
   "metadata": {},
   "outputs": [],
   "source": [
    "def convert(data):\n",
    "    new_data = []\n",
    "    for id_user in range(1,nb_users +1):\n",
    "        id_movies = data[:,1][data[:,0] == id_user]\n",
    "        id_ratings = data[:,2][data[:,0] == id_user]\n",
    "        ratings = np.zeros(nb_movies)\n",
    "        ratings[id_movies - 1] = id_ratings\n",
    "        new_data.append(list(ratings))\n",
    "    return(new_data)    "
   ]
  },
  {
   "cell_type": "code",
   "execution_count": 11,
   "metadata": {},
   "outputs": [],
   "source": [
    "training_set = convert(training_set)\n",
    "test_set = convert(test_set)\n"
   ]
  },
  {
   "cell_type": "code",
   "execution_count": 12,
   "metadata": {},
   "outputs": [],
   "source": [
    "# Converting the data into Torch tensors\n",
    "training_set = torch.FloatTensor(training_set)\n",
    "test_set = torch.FloatTensor(test_set)\n"
   ]
  },
  {
   "cell_type": "code",
   "execution_count": 13,
   "metadata": {},
   "outputs": [],
   "source": [
    "#creating the architecture of AE\n",
    "\n",
    "class SAE(nn.Module):\n",
    "    def __init__(self,):\n",
    "        super(SAE,self).__init__()\n",
    "        self.fc1 = nn.Linear(nb_movies,20)\n",
    "        self.fc2 = nn.Linear(20,10)\n",
    "        self.fc3 = nn.Linear(10, 20)\n",
    "        self.fc4 = nn.Linear(20, nb_movies)\n",
    "        self.activation = nn.Sigmoid()\n",
    "    def forward(self,x):\n",
    "        x = self.activation(self.fc1(x))\n",
    "        x = self.activation(self.fc2(x))\n",
    "        x = self.activation(self.fc3(x))\n",
    "        x = self.fc4(x)\n",
    "        return(x)\n",
    "    \n",
    "        "
   ]
  },
  {
   "cell_type": "code",
   "execution_count": 14,
   "metadata": {},
   "outputs": [],
   "source": [
    "sae = SAE()"
   ]
  },
  {
   "cell_type": "code",
   "execution_count": 15,
   "metadata": {},
   "outputs": [],
   "source": [
    "criterion = nn.MSELoss()"
   ]
  },
  {
   "cell_type": "code",
   "execution_count": 16,
   "metadata": {},
   "outputs": [],
   "source": [
    "optimizer = optim.RMSprop(sae.parameters(), lr = 0.01, weight_decay = 0.5)"
   ]
  },
  {
   "cell_type": "code",
   "execution_count": 18,
   "metadata": {},
   "outputs": [
    {
     "name": "stdout",
     "output_type": "stream",
     "text": [
      "epoch: 1 loss: 1.7668000841053235\n",
      "epoch: 2 loss: 1.0967170089085432\n",
      "epoch: 3 loss: 1.0536026081360579\n",
      "epoch: 4 loss: 1.0381494515592569\n",
      "epoch: 5 loss: 1.0307517400559194\n",
      "epoch: 6 loss: 1.0264504370898897\n",
      "epoch: 7 loss: 1.0237513374822484\n",
      "epoch: 8 loss: 1.0218858920747236\n",
      "epoch: 9 loss: 1.0207609454727473\n",
      "epoch: 10 loss: 1.0195077636620062\n",
      "epoch: 11 loss: 1.018910614654663\n",
      "epoch: 12 loss: 1.018143282326087\n",
      "epoch: 13 loss: 1.0177717614686945\n",
      "epoch: 14 loss: 1.017510501940069\n",
      "epoch: 15 loss: 1.0170840892605153\n",
      "epoch: 16 loss: 1.0168604805957877\n",
      "epoch: 17 loss: 1.0167400625307452\n",
      "epoch: 18 loss: 1.0163563652393959\n",
      "epoch: 19 loss: 1.01632153268935\n",
      "epoch: 20 loss: 1.016132830754786\n",
      "epoch: 21 loss: 1.0156684228885438\n",
      "epoch: 22 loss: 1.015779138863319\n",
      "epoch: 23 loss: 1.0158321576635687\n",
      "epoch: 24 loss: 1.0155338298447736\n",
      "epoch: 25 loss: 1.0156586597090769\n",
      "epoch: 26 loss: 1.0154004257640297\n",
      "epoch: 27 loss: 1.0150873337510349\n",
      "epoch: 28 loss: 1.0150018350783054\n",
      "epoch: 29 loss: 1.012682998317579\n",
      "epoch: 30 loss: 1.0121442518421384\n",
      "epoch: 31 loss: 1.0095070072521266\n",
      "epoch: 32 loss: 1.009442571114228\n",
      "epoch: 33 loss: 1.004832964254576\n",
      "epoch: 34 loss: 1.0045472053394457\n",
      "epoch: 35 loss: 1.0007617797328026\n",
      "epoch: 36 loss: 0.9993449891742756\n",
      "epoch: 37 loss: 0.9964045493735014\n",
      "epoch: 38 loss: 0.9963791625179014\n",
      "epoch: 39 loss: 0.9944284475212861\n",
      "epoch: 40 loss: 0.9934265810771294\n",
      "epoch: 41 loss: 0.990941933990862\n",
      "epoch: 42 loss: 0.9892036338574298\n",
      "epoch: 43 loss: 0.985854381703564\n",
      "epoch: 44 loss: 0.9859824889267816\n",
      "epoch: 45 loss: 0.9882183233997555\n",
      "epoch: 46 loss: 0.9835609474307117\n",
      "epoch: 47 loss: 0.9819713533987826\n",
      "epoch: 48 loss: 0.9788677661045916\n",
      "epoch: 49 loss: 0.9765642856038115\n",
      "epoch: 50 loss: 0.9763951599687205\n",
      "epoch: 51 loss: 0.9744704947368875\n",
      "epoch: 52 loss: 0.9780388405912297\n",
      "epoch: 53 loss: 0.9709074521829827\n",
      "epoch: 54 loss: 0.9690279716070377\n",
      "epoch: 55 loss: 0.9642646612467819\n",
      "epoch: 56 loss: 0.9678700764846451\n",
      "epoch: 57 loss: 0.9644387580064617\n",
      "epoch: 58 loss: 0.964831332433952\n",
      "epoch: 59 loss: 0.9669714970170624\n",
      "epoch: 60 loss: 0.971455348614562\n",
      "epoch: 61 loss: 0.9705200970181969\n",
      "epoch: 62 loss: 0.9694553334957473\n",
      "epoch: 63 loss: 0.9659983342159232\n",
      "epoch: 64 loss: 0.9695304732804365\n",
      "epoch: 65 loss: 0.9684026604243982\n",
      "epoch: 66 loss: 0.9729276222046248\n",
      "epoch: 67 loss: 0.9677760033977438\n",
      "epoch: 68 loss: 0.9642466792350146\n",
      "epoch: 69 loss: 0.9644532422515485\n",
      "epoch: 70 loss: 0.9653551581661544\n",
      "epoch: 71 loss: 0.9582498859523257\n",
      "epoch: 72 loss: 0.9576003299010707\n",
      "epoch: 73 loss: 0.9548447386950139\n",
      "epoch: 74 loss: 0.9555208773518309\n",
      "epoch: 75 loss: 0.9513077689961776\n",
      "epoch: 76 loss: 0.9534764793499144\n",
      "epoch: 77 loss: 0.9529826905190928\n",
      "epoch: 78 loss: 0.9528628386518477\n",
      "epoch: 79 loss: 0.9487155419584692\n",
      "epoch: 80 loss: 0.9503901373225668\n",
      "epoch: 81 loss: 0.9477785030060489\n",
      "epoch: 82 loss: 0.9471970447125044\n",
      "epoch: 83 loss: 0.9454576736927522\n",
      "epoch: 84 loss: 0.9473112141773008\n",
      "epoch: 85 loss: 0.9451356976794402\n",
      "epoch: 86 loss: 0.9525465265409753\n",
      "epoch: 87 loss: 0.946073789520233\n",
      "epoch: 88 loss: 0.946935359053423\n",
      "epoch: 89 loss: 0.943546634218016\n",
      "epoch: 90 loss: 0.94620871629028\n",
      "epoch: 91 loss: 0.9430144315000263\n",
      "epoch: 92 loss: 0.9445475997548058\n",
      "epoch: 93 loss: 0.9412163395444291\n",
      "epoch: 94 loss: 0.9412195248143068\n",
      "epoch: 95 loss: 0.9395819167724211\n",
      "epoch: 96 loss: 0.9414255455225371\n",
      "epoch: 97 loss: 0.9398050494923665\n",
      "epoch: 98 loss: 0.939190768727251\n",
      "epoch: 99 loss: 0.9365972753956735\n",
      "epoch: 100 loss: 0.938429118911436\n"
     ]
    }
   ],
   "source": [
    "## training the AE\n",
    "nb_epoch = 100\n",
    "for epoch in range(1, nb_epoch+1):\n",
    "    train_loss = 0\n",
    "    s = 0.\n",
    "    for id_user in range(nb_users):\n",
    "        inputVar = Variable(training_set[id_user]).unsqueeze(0)\n",
    "        target = inputVar.clone()\n",
    "        if torch.sum(target.data>0)>0:\n",
    "            output = sae(inputVar)\n",
    "            target.require_grad = False\n",
    "            output[target == 0] = 0\n",
    "            loss = criterion(output,target)\n",
    "            mean_corrector = nb_movies/float(torch.sum(target.data>0) + 1e-10)\n",
    "            loss.backward()\n",
    "            train_loss += np.sqrt(loss.data[0]*mean_corrector)\n",
    "            s+=1.\n",
    "            optimizer.step()\n",
    "    print('epoch: '+str(epoch)+' loss: '+str(train_loss/s))"
   ]
  },
  {
   "cell_type": "code",
   "execution_count": 21,
   "metadata": {},
   "outputs": [
    {
     "name": "stdout",
     "output_type": "stream",
     "text": [
      "test loss: 0.9739286092325107\n"
     ]
    }
   ],
   "source": [
    "test_loss = 0\n",
    "s = 0.\n",
    "for id_user in range(nb_users):\n",
    "    input = Variable(training_set[id_user]).unsqueeze(0)\n",
    "    target = Variable(test_set[id_user])\n",
    "    if torch.sum(target.data > 0) > 0:\n",
    "        output = sae(input)\n",
    "        target.require_grad = False\n",
    "        output[target == 0] = 0\n",
    "        loss = criterion(output, target)\n",
    "        \n",
    "        mean_corrector = nb_movies/float(torch.sum(target.data > 0) + 1e-10)\n",
    "        test_loss += np.sqrt(loss.data[0]*mean_corrector)\n",
    "        s += 1.\n",
    "print('test loss: '+str(test_loss/s))"
   ]
  },
  {
   "cell_type": "code",
   "execution_count": null,
   "metadata": {},
   "outputs": [],
   "source": []
  },
  {
   "cell_type": "code",
   "execution_count": null,
   "metadata": {},
   "outputs": [],
   "source": []
  },
  {
   "cell_type": "code",
   "execution_count": null,
   "metadata": {},
   "outputs": [],
   "source": []
  },
  {
   "cell_type": "code",
   "execution_count": null,
   "metadata": {},
   "outputs": [],
   "source": []
  },
  {
   "cell_type": "code",
   "execution_count": null,
   "metadata": {},
   "outputs": [],
   "source": []
  },
  {
   "cell_type": "code",
   "execution_count": null,
   "metadata": {},
   "outputs": [],
   "source": []
  },
  {
   "cell_type": "code",
   "execution_count": null,
   "metadata": {},
   "outputs": [],
   "source": []
  }
 ],
 "metadata": {
  "kernelspec": {
   "display_name": "Python 3",
   "language": "python",
   "name": "python3"
  },
  "language_info": {
   "codemirror_mode": {
    "name": "ipython",
    "version": 3
   },
   "file_extension": ".py",
   "mimetype": "text/x-python",
   "name": "python",
   "nbconvert_exporter": "python",
   "pygments_lexer": "ipython3",
   "version": "3.6.1"
  }
 },
 "nbformat": 4,
 "nbformat_minor": 2
}
