{
 "cells": [
  {
   "cell_type": "code",
   "execution_count": 2,
   "metadata": {},
   "outputs": [],
   "source": [
    "from skimage import io,filters"
   ]
  },
  {
   "cell_type": "code",
   "execution_count": 14,
   "metadata": {},
   "outputs": [],
   "source": [
    "import numpy as np"
   ]
  },
  {
   "cell_type": "code",
   "execution_count": null,
   "metadata": {},
   "outputs": [],
   "source": []
  },
  {
   "cell_type": "code",
   "execution_count": 6,
   "metadata": {},
   "outputs": [],
   "source": [
    "import PIL"
   ]
  },
  {
   "cell_type": "code",
   "execution_count": 8,
   "metadata": {},
   "outputs": [],
   "source": [
    "from PIL import Image"
   ]
  },
  {
   "cell_type": "code",
   "execution_count": 10,
   "metadata": {},
   "outputs": [],
   "source": [
    "im = Image.open(\"C:\\\\Users\\\\nitin.sharma9\\\\Documents\\\\Nitin\\\\test2.jpg\")"
   ]
  },
  {
   "cell_type": "code",
   "execution_count": 11,
   "metadata": {},
   "outputs": [],
   "source": [
    "im2 = im.convert('L')"
   ]
  },
  {
   "cell_type": "code",
   "execution_count": 13,
   "metadata": {},
   "outputs": [],
   "source": [
    "im2.show()"
   ]
  },
  {
   "cell_type": "code",
   "execution_count": 22,
   "metadata": {},
   "outputs": [
    {
     "data": {
      "text/plain": [
       "(900, 1600, 1)"
      ]
     },
     "execution_count": 22,
     "metadata": {},
     "output_type": "execute_result"
    }
   ],
   "source": [
    "np.array(im2.getdata(),np.uint8).reshape((im2.size[1],im2.size[0],1))"
   ]
  },
  {
   "cell_type": "code",
   "execution_count": 23,
   "metadata": {},
   "outputs": [],
   "source": [
    "import os,os.path"
   ]
  },
  {
   "cell_type": "code",
   "execution_count": 40,
   "metadata": {},
   "outputs": [],
   "source": [
    "def createList(format1 = '.jpg'):\n",
    "    dir1 = \"C:\\\\Users\\\\nitin.sharma9\\\\Documents\\\\Nitin\"\n",
    "    fileList = []\n",
    "    dirnames = []\n",
    "    for root,dirs,files in os.walk(dir1):\n",
    "        dirnames.extend(files)\n",
    "        print(\"files\")\n",
    "    for name in files:\n",
    "        if name.endswith(format1):\n",
    "            fullname = os.path.join(root,name)\n",
    "            print(fullname)\n",
    "            fileList.append(fullname)\n",
    "            return fileList\n",
    "    "
   ]
  },
  {
   "cell_type": "code",
   "execution_count": 59,
   "metadata": {},
   "outputs": [],
   "source": [
    "import pandas as pd"
   ]
  },
  {
   "cell_type": "code",
   "execution_count": 50,
   "metadata": {},
   "outputs": [],
   "source": [
    "f = []\n",
    "cpath = []\n",
    "dir1 = \"C:\\\\Users\\\\nitin.sharma9\\\\Documents\\\\Nitin\\\\\"\n",
    "for dirpath,dirnames,filenames in os.walk( \"C:\\\\Users\\\\nitin.sharma9\\\\Documents\\\\Nitin\"):\n",
    "    f.extend(filenames)\n",
    "for filenames in f:\n",
    "    if filenames.endswith(\".jpg\"):\n",
    "        dir2 = (dir1+filenames)\n",
    "        cpath.append(dir2)\n",
    "    \n",
    "    "
   ]
  },
  {
   "cell_type": "code",
   "execution_count": 79,
   "metadata": {},
   "outputs": [
    {
     "name": "stdout",
     "output_type": "stream",
     "text": [
      "(1502720,)\n",
      "(1440000,)\n"
     ]
    }
   ],
   "source": [
    "#processing image to grey scale\n",
    "rows = pd.DataFrame()\n",
    "for images in cpath:\n",
    "    image = Image.open(images)\n",
    "    ig = image.convert('L')\n",
    "    val = np.asarray(ig.getdata(),dtype = np.int).reshape(ig.size[1],ig.size[0])\n",
    "    val = val.ravel()\n",
    "    print(val.shape)\n",
    "   \n",
    "    "
   ]
  }
 ],
 "metadata": {
  "kernelspec": {
   "display_name": "Python 3",
   "language": "python",
   "name": "python3"
  },
  "language_info": {
   "codemirror_mode": {
    "name": "ipython",
    "version": 3
   },
   "file_extension": ".py",
   "mimetype": "text/x-python",
   "name": "python",
   "nbconvert_exporter": "python",
   "pygments_lexer": "ipython3",
   "version": "3.6.4"
  }
 },
 "nbformat": 4,
 "nbformat_minor": 2
}
